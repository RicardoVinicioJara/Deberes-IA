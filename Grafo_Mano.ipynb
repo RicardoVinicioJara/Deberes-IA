{
 "cells": [
  {
   "cell_type": "markdown",
   "metadata": {},
   "source": [
    "## Nombre: Ricardo Jara\n",
    "### Orden\n",
    "Diseñe un grafo similar al que se ha presentado en este ejercicio partiendo de las siguientes coordenadas de latitud y longitud: -2.8801604,-79.0071712. Para ello deberá realizar las siguientes tareas:\n",
    "\n",
    "Emplear la herramienta Google Maps (R) con las coordenadas antes indicadas (Link).\n",
    "Definir 11 puntos de interés (El Vecino, Bellavista, Loja Argelia, Misicata, etc.) y armar el grafo.\n",
    "Especificar como punto de partida al sector \"San Sebastián\" y como objetivo \"Totoracocha\".\n",
    "Establecer los arcos o caminos en 1 sola dirección, por ejemplo, del nodo \"Bellavista\" al nodo \"Loja Argelia\".\n",
    "Calcular la distancia que existe entre los puntos de interés. Para ello puede usar la herramienta de medida (click con el botón derecho del razón y seleccionar la opción \"Medir\").\n",
    "Realizar el proceso de búsqueda de forma similar a cómo se a explicado en este apartado, almacenando para ello los datos de la lista Visitados y de la Cola.\n",
    "**El trabajo deberá desarrollarse de forma manual en el cuaderno.**\n",
    "![IMAGEN DEL GRAFO Y METODO DE AMPLITUD](https://raw.githubusercontent.com/RicardoVinicioJara/Deberes-IA/master/Fotos/d1_1.jpg)\n",
    "![METODO DE COSTO](https://raw.githubusercontent.com/RicardoVinicioJara/Deberes-IA/master/Fotos/d1_2.jpg)\n",
    "![METODO DE PROFUNDIDAD](https://raw.githubusercontent.com/RicardoVinicioJara/Deberes-IA/master/Fotos/d1_33.jpg)"
   ]
  }
 ],
 "metadata": {
  "kernelspec": {
   "display_name": "Python 3",
   "language": "python",
   "name": "python3"
  },
  "language_info": {
   "codemirror_mode": {
    "name": "ipython",
    "version": 3
   },
   "file_extension": ".py",
   "mimetype": "text/x-python",
   "name": "python",
   "nbconvert_exporter": "python",
   "pygments_lexer": "ipython3",
   "version": "3.7.6"
  }
 },
 "nbformat": 4,
 "nbformat_minor": 4
}
