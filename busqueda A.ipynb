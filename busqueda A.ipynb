{
 "cells": [
  {
   "cell_type": "markdown",
   "metadata": {},
   "source": [
    "# <div align=\"center\"> ![Logo](https://www.ups.edu.ec/ups_portal-theme/images/ups/home/logo-ups-home.png)\n",
    "# <div align=\"center\">  Búsqueda heurística A*\n",
    "## Materia:\n",
    "### <div align=\"center\"> Inteligencia Artificial  \n",
    "## Docente:\n",
    "### <div align=\"center\"> Ing. Diego Quisis\n",
    "## Estudiante\n",
    "### <div align=\"center\"> Ricardo Vinicio Jara Jara\n",
    "\n",
    "## <div align=\"center\"> Grafo \n",
    "![grafo](https://raw.githubusercontent.com/RicardoVinicioJara/IMG/master/0516201636.jpg)   \n",
    "## <div align=\"center\"> Ejercicio a mano \n",
    "![resolucion_ejercicio1](https://raw.githubusercontent.com/RicardoVinicioJara/IMG/master/0516201636a.jpg) \n",
    "![resolucion_ejercicio2](https://raw.githubusercontent.com/RicardoVinicioJara/IMG/master/0516201636b.jpg) \n",
    "## <div align=\"center\"> Neo4j\n",
    "### Codigo: \n",
    "    Creamos Nodos"
   ]
  },
  {
   "cell_type": "code",
   "execution_count": null,
   "metadata": {},
   "outputs": [],
   "source": [
    "CREATE (A:Station {name: 'HOME', latitude : 0, costo: -0.100}),\n",
    "(B:Station {name: 'C. Misioneros Oblatos', distancia: 300, costo: -0.550}),\n",
    "(C:Station {name: 'C. Sagrado Corazon', distancia: 550, costo: -0.308}),\n",
    "(D:Station {name: 'C. Dante', distancia: 65, costo: -0.160}),\n",
    "(E:Station {name: 'C. Calos Cueva', distancia: 250, costo: -0.330}),\n",
    "(F:Station {name: 'C. Octavio Cordero', distancia: 635, costo: -0.550}),\n",
    "(G:Station {name: 'C. Luisa de Jesus Cordero', distancia: 460, costo: -0.220}),\n",
    "(H:Station {name: 'C. Maria auxiliara', distancia: 720, costo: -0.300}),\n",
    "(J:Station {name: 'C. Dominicano', distancia: 700, costo: -0.100}),\n",
    "(K:Station {name: 'C. Atlantico', distancia: 680, costo: -0.212}),\n",
    "(I:Station {name: 'C. Benigno Malo', distancia: 1200, costo: -0.600}),\n",
    "(A)-[:CONNECTION { distancia: 300}]->(B),\n",
    "(B)-[:CONNECTION { distancia: 550}]->(C),\n",
    "(C)-[:CONNECTION { distancia: 1200}]->(I),\n",
    "(A)-[:CONNECTION { distancia: 65}]->(D),\n",
    "(D)-[:CONNECTION { distancia: 635}]->(F),\n",
    "(F)-[:CONNECTION { distancia: 700}]->(J),\n",
    "(A)-[:CONNECTION { distancia: 250}]->(E),\n",
    "(E)-[:CONNECTION { distancia: 460}]->(G),\n",
    "(E)-[:CONNECTION { distancia: 720}]->(H),\n",
    "(G)-[:CONNECTION { distancia: 680}]->(K)\n"
   ]
  },
  {
   "cell_type": "markdown",
   "metadata": {},
   "source": [
    "![resolucion_ejercicio2](https://raw.githubusercontent.com/RicardoVinicioJara/IMG/master/nodosneo4j.png) \n",
    "    Consulta\n"
   ]
  },
  {
   "cell_type": "code",
   "execution_count": null,
   "metadata": {},
   "outputs": [],
   "source": [
    "MATCH (start:Station {name: 'HOME'}), (end:Station {name: 'C. Atlántico'})\n",
    "CALL gds.alpha.shortestPath.astar.stream({\n",
    "  nodeQuery: 'MATCH (p:Station) RETURN id(p) AS id',\n",
    "  relationshipQuery: 'MATCH (p1:Station)-[r:CONNECTION]->(p2:Station) RETURN id(p1) AS source, id(p2) AS target, r.time AS weight',\n",
    "  startNode: start,\n",
    "  endNode: end,\n",
    "  relationshipWeightProperty: 'weight',\n",
    "  propertyKeyLat: 'latitude',\n",
    "  propertyKeyLat: 'longitude'\n",
    "})\n",
    "YIELD nodeId, cost\n",
    "RETURN gds.util.asNode(nodeId).name AS station, cost\n"
   ]
  },
  {
   "cell_type": "markdown",
   "metadata": {},
   "source": [
    "![resolucion_ejercicio2](https://raw.githubusercontent.com/RicardoVinicioJara/IMG/master/consultaneo4j.png) \n",
    "## <div align=\"center\"> Conclusion \n",
    "### Con el método de búsqueda heurístico A* podemos encontrar el camino que tenga el menor coste posible. Aun que una vez encontrado el nodo meta no realice nuevas búsquedas para detectar si existe otros caminos y comparar para definir la ruta mas eficiente. "
   ]
  }
 ],
 "metadata": {
  "kernelspec": {
   "display_name": "Python 3",
   "language": "python",
   "name": "python3"
  },
  "language_info": {
   "codemirror_mode": {
    "name": "ipython",
    "version": 3
   },
   "file_extension": ".py",
   "mimetype": "text/x-python",
   "name": "python",
   "nbconvert_exporter": "python",
   "pygments_lexer": "ipython3",
   "version": "3.7.6"
  }
 },
 "nbformat": 4,
 "nbformat_minor": 4
}
