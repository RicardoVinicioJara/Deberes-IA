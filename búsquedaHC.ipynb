{
 "cells": [
  {
   "cell_type": "markdown",
   "metadata": {},
   "source": [
    "# <div align=\"center\"> ![Logo](https://www.ups.edu.ec/ups_portal-theme/images/ups/home/logo-ups-home.png)\n",
    "# <div align=\"center\">  Búsqueda heurística A*\n",
    "## Materia:\n",
    "### <div align=\"center\"> Inteligencia Artificial  \n",
    "## Docente:\n",
    "### <div align=\"center\"> Ing. Diego Quisis\n",
    "## Estudiante\n",
    "### <div align=\"center\"> Ricardo Vinicio Jara Jara\n",
    "\n",
    "## <div align=\"center\"> Grafo \n",
    "![grafo](https://raw.githubusercontent.com/RicardoVinicioJara/IMG/master/P1080775.JPG)   \n",
    "## <div align=\"center\"> Ejercicio a mano \n",
    "![resolucion_ejercicio1](https://raw.githubusercontent.com/RicardoVinicioJara/IMG/master/P1080778.JPG) \n",
    "## <div align=\"center\"> Neo4j\n",
    "### Codigo: \n",
    "    Creamos Nodos"
   ]
  },
  {
   "cell_type": "code",
   "execution_count": null,
   "metadata": {},
   "outputs": [],
   "source": [
    "CREATE \n",
    "(A:Restaurante {name: 'HOME'}),\n",
    "(B:Restaurante {name: 'LUNAJA'}),\n",
    "(C:Restaurante {name: 'CANDYS BURGER'}),\n",
    "(D:Restaurante {name: 'EL SANTO'}),\n",
    "(E:Restaurante {name: 'SINSISE CAFE'}),\n",
    "(F:Restaurante {name: 'EL MERCADO'}),\n",
    "(G:Restaurante {name: 'COSITAS'}),\n",
    "(H:Restaurante {name: 'EL JARDIN'}),\n",
    "(I:Restaurante {name: 'STAY GLOBAL'}),\n",
    "(J:Restaurante {name: 'FUNDE'}),\n",
    "(K:Restaurante {name: 'SPECIAL FOOD'}),\n",
    "(L:Restaurante {name: 'RAYMIPAMBA'}),\n",
    "(A)-[:CAMINO { cost: 100}]->(B),\n",
    "(A)-[:CAMINO { cost: 50}]->(C),\n",
    "(A)-[:CAMINO { cost: 300}]->(D),\n",
    "(B)-[:CAMINO { cost: 20}]->(E),\n",
    "(C)-[:CAMINO { cost: 350}]->(F),\n",
    "(C)-[:CAMINO { cost: 175}]->(G),\n",
    "(F)-[:CAMINO { cost: 30}]->(I),\n",
    "(G)-[:CAMINO { cost: 200}]->(J),\n",
    "(J)-[:CAMINO { cost: 300}]->(K),\n",
    "(D)-[:CAMINO { cost: 100}]->(H),\n",
    "(H)-[:CAMINO { cost: 200}]->(L)\n"
   ]
  },
  {
   "cell_type": "markdown",
   "metadata": {},
   "source": [
    "![resolucion_ejercicio2](https://raw.githubusercontent.com/RicardoVinicioJara/IMG/master/Capture.PNG) \n",
    "    Consulta\n"
   ]
  },
  {
   "cell_type": "code",
   "execution_count": null,
   "metadata": {},
   "outputs": [],
   "source": [
    "MATCH (start:Restaurante {name: \"HOME\"}), (end:Restaurante {name: \"RAYMIPAMBA\"})\n",
    "CALL gds.alpha.shortestPath.stream({\n",
    "  nodeProjection: 'Restaurante',\n",
    "  relationshipProjection: {\n",
    "  CAMINO: { \n",
    "  type: 'CAMINO',\n",
    "  properties: 'cost',\n",
    "  orientation:'UNDIRECTED'\n",
    "  } \n",
    "  },\n",
    "  startNode: start,\n",
    "  endNode: end,\n",
    "  relationshipWeightProperty: 'cost'\n",
    "  })\n",
    "  YIELD nodeId, cost\n",
    "  RETURN gds.util.asNode(nodeId).name AS NOMBRE, cost\n",
    "\n"
   ]
  },
  {
   "cell_type": "markdown",
   "metadata": {},
   "source": [
    "![resolucion_ejercicio2](https://raw.githubusercontent.com/RicardoVinicioJara/IMG/master/CaptureCosto.PNG) \n",
    "## <div align=\"center\"> Conclusion \n",
    "### El método de búsqueda heurística aplicando accenso por colinas es un método que gasta mucha memoria y que actúa en ciclos no siempre brindado el camino más eficiente o comino con menor costo. "
   ]
  }
 ],
 "metadata": {
  "kernelspec": {
   "display_name": "Python 3",
   "language": "python",
   "name": "python3"
  },
  "language_info": {
   "codemirror_mode": {
    "name": "ipython",
    "version": 3
   },
   "file_extension": ".py",
   "mimetype": "text/x-python",
   "name": "python",
   "nbconvert_exporter": "python",
   "pygments_lexer": "ipython3",
   "version": "3.7.6"
  }
 },
 "nbformat": 4,
 "nbformat_minor": 4
}
